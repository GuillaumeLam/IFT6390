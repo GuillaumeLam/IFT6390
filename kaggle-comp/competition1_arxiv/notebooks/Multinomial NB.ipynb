{
 "cells": [
  {
   "cell_type": "code",
   "execution_count": 1,
   "metadata": {},
   "outputs": [],
   "source": [
    "import os\n",
    "os.chdir('../')"
   ]
  },
  {
   "cell_type": "code",
   "execution_count": 2,
   "metadata": {},
   "outputs": [
    {
     "name": "stderr",
     "output_type": "stream",
     "text": [
      "[nltk_data] Downloading package stopwords to /home/gui/nltk_data...\n",
      "[nltk_data]   Package stopwords is already up-to-date!\n",
      "[nltk_data] Downloading package wordnet to /home/gui/nltk_data...\n",
      "[nltk_data]   Package wordnet is already up-to-date!\n",
      "[nltk_data] Downloading package averaged_perceptron_tagger to\n",
      "[nltk_data]     /home/gui/nltk_data...\n",
      "[nltk_data]   Package averaged_perceptron_tagger is already up-to-\n",
      "[nltk_data]       date!\n"
     ]
    }
   ],
   "source": [
    "import matplotlib.pyplot as plt\n",
    "import numpy as np\n",
    "from sklearn.metrics import accuracy_score, confusion_matrix\n",
    "from sklearn.model_selection import GridSearchCV, cross_val_score, train_test_split\n",
    "from sklearn.naive_bayes import MultinomialNB\n",
    "\n",
    "from src.preprocess import pre_process"
   ]
  },
  {
   "cell_type": "code",
   "execution_count": 72,
   "metadata": {},
   "outputs": [
    {
     "name": "stdout",
     "output_type": "stream",
     "text": [
      "cleaning...\n",
      "vectorizing...\n",
      "done!\n"
     ]
    }
   ],
   "source": [
    "X, y, vectorizer = pre_process('dataset/train.csv',\n",
    "                                 data = 'train',\n",
    "                                 vectorizer = 'tfidf',\n",
    "                                 max_features = None)\n"
   ]
  },
  {
   "cell_type": "code",
   "execution_count": 73,
   "metadata": {},
   "outputs": [],
   "source": [
    "clf = MultinomialNB(0.1)\n",
    "cross_scores = cross_val_score(clf, X, y, cv=5)"
   ]
  },
  {
   "cell_type": "code",
   "execution_count": 74,
   "metadata": {},
   "outputs": [
    {
     "data": {
      "text/plain": [
       "0.7928"
      ]
     },
     "execution_count": 74,
     "metadata": {},
     "output_type": "execute_result"
    }
   ],
   "source": [
    "cross_scores.mean()"
   ]
  },
  {
   "cell_type": "code",
   "execution_count": null,
   "metadata": {},
   "outputs": [],
   "source": [
    "X_train, X_val, y_train, y_val = train_test_split(X, y, test_size=0.2, random_state=11)"
   ]
  },
  {
   "cell_type": "code",
   "execution_count": null,
   "metadata": {},
   "outputs": [],
   "source": [
    "clf.fit(X_train, y_train)\n",
    "y_pred = clf.predict(X_val).astype(int)\n",
    "y_val = y_val.astype(int)"
   ]
  },
  {
   "cell_type": "code",
   "execution_count": 6,
   "metadata": {},
   "outputs": [],
   "source": [
    "cm = confusion_matrix(y_val, y_pred, normalize='true')"
   ]
  },
  {
   "cell_type": "code",
   "execution_count": 7,
   "metadata": {},
   "outputs": [
    {
     "data": {
      "image/png": "[encoded data removed]",
      "text/plain": [
       "<Figure size 432x288 with 2 Axes>"
      ]
     },
     "metadata": {
      "needs_background": "light"
     },
     "output_type": "display_data"
    }
   ],
   "source": [
    "plt.imshow(cm, cmap='hot', interpolation='nearest')\n",
    "plt.colorbar()\n",
    "plt.show()"
   ]
  },
  {
   "cell_type": "code",
   "execution_count": 8,
   "metadata": {},
   "outputs": [
    {
     "data": {
      "text/plain": [
       "array([0.37078652, 0.55789474, 0.70103093, 0.73504274, 0.74157303,\n",
       "       0.83695652, 0.79646018, 0.84466019, 0.89908257, 0.9010989 ,\n",
       "       0.91666667, 0.94736842, 0.88297872, 0.78      , 0.81481481])"
      ]
     },
     "execution_count": 8,
     "metadata": {},
     "output_type": "execute_result"
    }
   ],
   "source": [
    "np.diagonal(cm)"
   ]
  },
  {
   "cell_type": "code",
   "execution_count": 9,
   "metadata": {},
   "outputs": [
    {
     "data": {
      "text/plain": [
       "GridSearchCV(cv=None, error_score=nan,\n",
       "             estimator=MultinomialNB(alpha=1.0, class_prior=None,\n",
       "                                     fit_prior=True),\n",
       "             iid='deprecated', n_jobs=None,\n",
       "             param_grid={'alpha': [0.1, 0.2, 0.3, 0.4, 0.5, 0.6, 0.7, 0.8, 0.9,\n",
       "                                   1]},\n",
       "             pre_dispatch='2*n_jobs', refit=True, return_train_score=False,\n",
       "             scoring=None, verbose=0)"
      ]
     },
     "execution_count": 9,
     "metadata": {},
     "output_type": "execute_result"
    }
   ],
   "source": [
    "parameters = {'alpha':[0.1, 0.2, 0.3, 0.4, 0.5, 0.6, 0.7, 0.8, 0.9, 1]}\n",
    "mnb = MultinomialNB()\n",
    "clf = GridSearchCV(mnb, parameters)\n",
    "clf.fit(X_train, y_train)"
   ]
  },
  {
   "cell_type": "code",
   "execution_count": 11,
   "metadata": {},
   "outputs": [
    {
     "data": {
      "text/plain": [
       "{'mean_fit_time': array([0.55831943, 0.53846374, 0.53601856, 0.53606172, 0.53835793,\n",
       "        0.5414537 , 0.54500136, 0.53683262, 0.53632917, 0.54014659]),\n",
       " 'mean_score_time': array([0.0359087 , 0.03426676, 0.03344989, 0.03362379, 0.03478026,\n",
       "        0.03387318, 0.03416643, 0.03348689, 0.03456373, 0.0337008 ]),\n",
       " 'mean_test_score': array([0.77883333, 0.78016667, 0.77966667, 0.78183333, 0.78183333,\n",
       "        0.78166667, 0.7805    , 0.78016667, 0.78      , 0.77916667]),\n",
       " 'param_alpha': masked_array(data=[0.1, 0.2, 0.3, 0.4, 0.5, 0.6, 0.7, 0.8, 0.9, 1],\n",
       "              mask=[False, False, False, False, False, False, False, False,\n",
       "                    False, False],\n",
       "        fill_value='?',\n",
       "             dtype=object),\n",
       " 'params': [{'alpha': 0.1},\n",
       "  {'alpha': 0.2},\n",
       "  {'alpha': 0.3},\n",
       "  {'alpha': 0.4},\n",
       "  {'alpha': 0.5},\n",
       "  {'alpha': 0.6},\n",
       "  {'alpha': 0.7},\n",
       "  {'alpha': 0.8},\n",
       "  {'alpha': 0.9},\n",
       "  {'alpha': 1}],\n",
       " 'rank_test_score': array([10,  5,  8,  1,  1,  3,  4,  6,  7,  9], dtype=int32),\n",
       " 'split0_test_score': array([0.77916667, 0.78083333, 0.7775    , 0.77666667, 0.7775    ,\n",
       "        0.7775    , 0.77583333, 0.77583333, 0.7775    , 0.77666667]),\n",
       " 'split1_test_score': array([0.78416667, 0.7875    , 0.78833333, 0.79083333, 0.79416667,\n",
       "        0.79083333, 0.78833333, 0.79      , 0.79      , 0.78666667]),\n",
       " 'split2_test_score': array([0.79166667, 0.7875    , 0.78916667, 0.79333333, 0.7925    ,\n",
       "        0.79333333, 0.79      , 0.79      , 0.78833333, 0.78916667]),\n",
       " 'split3_test_score': array([0.78083333, 0.7825    , 0.78583333, 0.78583333, 0.78416667,\n",
       "        0.785     , 0.78583333, 0.78416667, 0.78333333, 0.7825    ]),\n",
       " 'split4_test_score': array([0.75833333, 0.7625    , 0.7575    , 0.7625    , 0.76083333,\n",
       "        0.76166667, 0.7625    , 0.76083333, 0.76083333, 0.76083333]),\n",
       " 'std_fit_time': array([0.03281306, 0.006702  , 0.00246367, 0.00134887, 0.00663861,\n",
       "        0.00709682, 0.00756962, 0.00210208, 0.00405005, 0.0039304 ]),\n",
       " 'std_score_time': array([0.00211961, 0.00139593, 0.0004174 , 0.00030442, 0.00106849,\n",
       "        0.00090328, 0.0012444 , 0.00159544, 0.00166577, 0.0003401 ]),\n",
       " 'std_test_score': array([0.01111306, 0.00922557, 0.01182746, 0.0112225 , 0.01209224,\n",
       "        0.01138957, 0.01025508, 0.01097219, 0.01052774, 0.01009675])}"
      ]
     },
     "execution_count": 11,
     "metadata": {},
     "output_type": "execute_result"
    }
   ],
   "source": [
    "clf.cv_results_"
   ]
  },
  {
   "cell_type": "code",
   "execution_count": 23,
   "metadata": {},
   "outputs": [
    {
     "name": "stdout",
     "output_type": "stream",
     "text": [
      "cleaning...\n",
      "splitting data...\n",
      "vectorizing...\n",
      "done!\n",
      "cleaning...\n",
      "splitting data...\n",
      "vectorizing...\n",
      "done!\n",
      "cleaning...\n",
      "splitting data...\n",
      "vectorizing...\n",
      "done!\n",
      "cleaning...\n",
      "splitting data...\n",
      "vectorizing...\n",
      "done!\n",
      "cleaning...\n",
      "splitting data...\n",
      "vectorizing...\n",
      "done!\n",
      "cleaning...\n",
      "splitting data...\n",
      "vectorizing...\n",
      "done!\n",
      "cleaning...\n",
      "splitting data...\n",
      "vectorizing...\n",
      "done!\n"
     ]
    }
   ],
   "source": [
    "scores = []\n",
    "for features in range (4000, 7001, 500):\n",
    "    X_train, X_val, y_train, y_val, vectorizer = pre_process('dataset/train.csv',\n",
    "                                                         data = 'train',\n",
    "                                                         vectorizer = 'tfidf',\n",
    "                                                         max_features = features)\n",
    "    X = np.concatenate((X_train,X_val), axis=0)\n",
    "    y = np.concatenate((y_train,y_val), axis=0)\n",
    "    \n",
    "    for alpha in range(4, 6, 1):\n",
    "        mnb = MultinomialNB(alpha*0.1)\n",
    "        scores.append((features, alpha, cross_val_score(mnb, X, y, cv=5).mean()))"
   ]
  },
  {
   "cell_type": "code",
   "execution_count": 24,
   "metadata": {},
   "outputs": [
    {
     "data": {
      "text/plain": [
       "[(4000, 4, 0.7837333333333334),\n",
       " (4000, 5, 0.7829333333333334),\n",
       " (4500, 4, 0.7864),\n",
       " (4500, 5, 0.7847999999999999),\n",
       " (5000, 4, 0.7872),\n",
       " (5000, 5, 0.7851999999999999),\n",
       " (5500, 4, 0.7864000000000001),\n",
       " (5500, 5, 0.7851999999999999),\n",
       " (6000, 4, 0.7851999999999999),\n",
       " (6000, 5, 0.7856000000000001),\n",
       " (6500, 4, 0.7865333333333334),\n",
       " (6500, 5, 0.7854666666666666),\n",
       " (7000, 4, 0.7869333333333333),\n",
       " (7000, 5, 0.7868)]"
      ]
     },
     "execution_count": 24,
     "metadata": {},
     "output_type": "execute_result"
    }
   ],
   "source": [
    "scores"
   ]
  },
  {
   "cell_type": "code",
   "execution_count": 25,
   "metadata": {},
   "outputs": [
    {
     "data": {
      "text/plain": [
       "(5000, 4, 0.7872)"
      ]
     },
     "execution_count": 25,
     "metadata": {},
     "output_type": "execute_result"
    }
   ],
   "source": [
    "max(scores, key=lambda item: item[2])"
   ]
  },
  {
   "cell_type": "code",
   "execution_count": 3,
   "metadata": {},
   "outputs": [
    {
     "name": "stdout",
     "output_type": "stream",
     "text": [
      "cleaning...\n",
      "splitting data...\n",
      "vectorizing...\n",
      "done!\n"
     ]
    }
   ],
   "source": [
    "X_train, X_val, y_train, y_val, vectorizer = pre_process('dataset/train.csv',\n",
    "                                                         data = 'train',\n",
    "                                                         vectorizer = 'tfidf',\n",
    "                                                         max_features = 5000)\n",
    "X = np.concatenate((X_train,X_val), axis=0)\n",
    "y = np.concatenate((y_train,y_val), axis=0)\n",
    "\n",
    "mnb = MultinomialNB(0.4)\n",
    "cross_scores = cross_val_score(mnb, X, y, cv=5)"
   ]
  },
  {
   "cell_type": "code",
   "execution_count": 4,
   "metadata": {},
   "outputs": [
    {
     "data": {
      "text/plain": [
       "0.7872"
      ]
     },
     "execution_count": 4,
     "metadata": {},
     "output_type": "execute_result"
    }
   ],
   "source": [
    "cross_scores.mean()"
   ]
  },
  {
   "cell_type": "code",
   "execution_count": null,
   "metadata": {},
   "outputs": [],
   "source": []
  }
 ],
 "metadata": {
  "kernelspec": {
   "display_name": "my-virtualenv-name",
   "language": "python",
   "name": "my-virtualenv-name"
  },
  "language_info": {
   "codemirror_mode": {
    "name": "ipython",
    "version": 3
   },
   "file_extension": ".py",
   "mimetype": "text/x-python",
   "name": "python",
   "nbconvert_exporter": "python",
   "pygments_lexer": "ipython3",
   "version": "3.5.2"
  }
 },
 "nbformat": 4,
 "nbformat_minor": 4
}
