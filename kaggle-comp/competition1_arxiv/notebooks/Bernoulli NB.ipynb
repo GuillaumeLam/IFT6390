{
 "cells": [
  {
   "cell_type": "code",
   "execution_count": 1,
   "metadata": {},
   "outputs": [],
   "source": [
    "import os\n",
    "os.chdir('../')"
   ]
  },
  {
   "cell_type": "code",
   "execution_count": 2,
   "metadata": {},
   "outputs": [],
   "source": [
    "import numpy as np"
   ]
  },
  {
   "cell_type": "code",
   "execution_count": 3,
   "metadata": {},
   "outputs": [
    {
     "name": "stderr",
     "output_type": "stream",
     "text": [
      "[nltk_data] Downloading package stopwords to /home/gui/nltk_data...\n",
      "[nltk_data]   Package stopwords is already up-to-date!\n",
      "[nltk_data] Downloading package wordnet to /home/gui/nltk_data...\n",
      "[nltk_data]   Package wordnet is already up-to-date!\n",
      "[nltk_data] Downloading package averaged_perceptron_tagger to\n",
      "[nltk_data]     /home/gui/nltk_data...\n",
      "[nltk_data]   Package averaged_perceptron_tagger is already up-to-\n",
      "[nltk_data]       date!\n"
     ]
    }
   ],
   "source": [
    "from src.preprocess import pre_process\n",
    "from sklearn.metrics import accuracy_score\n",
    "from sklearn.model_selection import cross_val_score, train_test_split"
   ]
  },
  {
   "cell_type": "code",
   "execution_count": 4,
   "metadata": {},
   "outputs": [],
   "source": [
    "class BernoulliNB:\n",
    "\n",
    "    def __init__(self, alpha=1):\n",
    "        self.alpha = alpha\n",
    "\n",
    "    def fit(self, X, y):\n",
    "        self.n_classes = len(np.unique(y))\n",
    "        n_classes = self.n_classes\n",
    "\n",
    "        self.counts = np.zeros(n_classes)\n",
    "        for i in y:\n",
    "            self.counts[int(i)] += 1\n",
    "        self.counts /= len(y)\n",
    "\n",
    "        self.params = np.zeros((n_classes, X.shape[1]))\n",
    "        for idx in range(len(X)):\n",
    "            self.params[int(y[idx])] += X[idx]\n",
    "        self.params += self.alpha \n",
    "\n",
    "        self.class_sums = np.zeros(self.n_classes)\n",
    "        for i in y:\n",
    "            self.class_sums[int(i)] += 1\n",
    "        self.class_sums += self.n_classes*self.alpha \n",
    "\n",
    "        self.params = self.params / self.class_sums[:, np.newaxis]\n",
    "\n",
    "    def predict(self, X):\n",
    "        neg_prob = np.log(1 - self.params)\n",
    "        jll = np.dot(X, (np.log(self.params) - neg_prob).T)\n",
    "        jll += np.log(self.counts) + neg_prob.sum(axis=1)\n",
    "        return np.argmax(jll, axis=1)"
   ]
  },
  {
   "cell_type": "code",
   "execution_count": 10,
   "metadata": {},
   "outputs": [
    {
     "name": "stdout",
     "output_type": "stream",
     "text": [
      "cleaning...\n",
      "vectorizing...\n",
      "done!\n"
     ]
    }
   ],
   "source": [
    "X, y, vectorizer = pre_process('dataset/train.csv',\n",
    "                                 data = 'train',\n",
    "                                 vectorizer = 'binary',\n",
    "                                 max_features = 6000)\n"
   ]
  },
  {
   "cell_type": "code",
   "execution_count": 11,
   "metadata": {},
   "outputs": [],
   "source": [
    "X_train, X_val, y_train, y_val = train_test_split(X, y, test_size=0.2, random_state=11)"
   ]
  },
  {
   "cell_type": "code",
   "execution_count": 12,
   "metadata": {},
   "outputs": [],
   "source": [
    "bnb = BernoulliNB(0.2)\n",
    "bnb.fit(X_train, y_train)"
   ]
  },
  {
   "cell_type": "code",
   "execution_count": 13,
   "metadata": {},
   "outputs": [],
   "source": [
    "y_pred = bnb.predict(X_val).astype(int)\n",
    "y_val = y_val.astype(int)"
   ]
  },
  {
   "cell_type": "code",
   "execution_count": 14,
   "metadata": {},
   "outputs": [
    {
     "data": {
      "text/plain": [
       "0.7866666666666666"
      ]
     },
     "execution_count": 14,
     "metadata": {},
     "output_type": "execute_result"
    }
   ],
   "source": [
    "accuracy_score(y_pred, y_val)"
   ]
  },
  {
   "cell_type": "code",
   "execution_count": 11,
   "metadata": {},
   "outputs": [],
   "source": [
    "from sklearn.metrics import confusion_matrix"
   ]
  },
  {
   "cell_type": "code",
   "execution_count": 12,
   "metadata": {},
   "outputs": [],
   "source": [
    "cm = confusion_matrix(y_val, y_pred, normalize='true')"
   ]
  },
  {
   "cell_type": "code",
   "execution_count": 13,
   "metadata": {},
   "outputs": [],
   "source": [
    "import matplotlib.pyplot as plt"
   ]
  },
  {
   "cell_type": "code",
   "execution_count": 14,
   "metadata": {},
   "outputs": [
    {
     "data": {
      "image/png": "[encoded data removed]",
      "text/plain": [
       "<Figure size 432x288 with 2 Axes>"
      ]
     },
     "metadata": {
      "needs_background": "light"
     },
     "output_type": "display_data"
    }
   ],
   "source": [
    "plt.imshow(cm, cmap='hot', interpolation='nearest')\n",
    "plt.colorbar()\n",
    "plt.show()"
   ]
  },
  {
   "cell_type": "code",
   "execution_count": 18,
   "metadata": {},
   "outputs": [
    {
     "data": {
      "text/plain": [
       "array([0.43820225, 0.52631579, 0.71134021, 0.7008547 , 0.73033708,\n",
       "       0.79347826, 0.79646018, 0.78640777, 0.93577982, 0.9010989 ,\n",
       "       0.93518519, 0.98947368, 0.87234043, 0.76      , 0.75      ])"
      ]
     },
     "execution_count": 18,
     "metadata": {},
     "output_type": "execute_result"
    }
   ],
   "source": [
    "np.diagonal(cm)"
   ]
  },
  {
   "cell_type": "code",
   "execution_count": 15,
   "metadata": {},
   "outputs": [
    {
     "data": {
      "text/plain": [
       "BernoulliNB(alpha=1.0, binarize=0.0, class_prior=None, fit_prior=True)"
      ]
     },
     "execution_count": 15,
     "metadata": {},
     "output_type": "execute_result"
    }
   ],
   "source": [
    "from sklearn.naive_bayes import BernoulliNB\n",
    "clf = BernoulliNB()\n",
    "clf.fit(X_train, y_train)"
   ]
  },
  {
   "cell_type": "code",
   "execution_count": 16,
   "metadata": {},
   "outputs": [],
   "source": [
    "y_pred = clf.predict(X_val).astype(int)"
   ]
  },
  {
   "cell_type": "code",
   "execution_count": 17,
   "metadata": {},
   "outputs": [
    {
     "name": "stdout",
     "output_type": "stream",
     "text": [
      "77.66666666666666\n"
     ]
    }
   ],
   "source": [
    "accuracy_score(y_pred, y_val)"
   ]
  },
  {
   "cell_type": "code",
   "execution_count": 19,
   "metadata": {},
   "outputs": [
    {
     "name": "stdout",
     "output_type": "stream",
     "text": [
      "cleaning...\n",
      "splitting data...\n",
      "vectorizing...\n",
      "done!\n",
      "cleaning...\n",
      "splitting data...\n",
      "vectorizing...\n",
      "done!\n",
      "cleaning...\n",
      "splitting data...\n",
      "vectorizing...\n",
      "done!\n",
      "cleaning...\n",
      "splitting data...\n",
      "vectorizing...\n",
      "done!\n",
      "cleaning...\n",
      "splitting data...\n",
      "vectorizing...\n",
      "done!\n",
      "cleaning...\n",
      "splitting data...\n",
      "vectorizing...\n",
      "done!\n",
      "cleaning...\n",
      "splitting data...\n",
      "vectorizing...\n",
      "done!\n",
      "cleaning...\n",
      "splitting data...\n",
      "vectorizing...\n",
      "done!\n",
      "cleaning...\n",
      "splitting data...\n",
      "vectorizing...\n",
      "done!\n",
      "cleaning...\n",
      "splitting data...\n",
      "vectorizing...\n",
      "done!\n"
     ]
    }
   ],
   "source": [
    "scores = []\n",
    "for features in range (500, 5001, 500):\n",
    "    X_train, X_val, y_train, y_val, vectorizer = pre_process('dataset/train.csv',\n",
    "                                                         data = 'train',\n",
    "                                                         vectorizer = 'binary',\n",
    "                                                         max_features = features)\n",
    "    for alpha in range(1, 11, 1):\n",
    "        bnb = BernoulliNB(alpha*0.1)\n",
    "        bnb.fit(X_train, y_train)\n",
    "        y_pred = bnb.predict(X_val).astype(int)\n",
    "        y_val = y_val.astype(int)\n",
    "        scores.append((features, alpha, accuracy_score(y_pred, y_val)))"
   ]
  },
  {
   "cell_type": "code",
   "execution_count": 20,
   "metadata": {},
   "outputs": [
    {
     "data": {
      "text/plain": [
       "[(500, 1, 0.696),\n",
       " (500, 2, 0.6946666666666667),\n",
       " (500, 3, 0.696),\n",
       " (500, 4, 0.6966666666666667),\n",
       " (500, 5, 0.6966666666666667),\n",
       " (500, 6, 0.696),\n",
       " (500, 7, 0.6946666666666667),\n",
       " (500, 8, 0.6946666666666667),\n",
       " (500, 9, 0.6946666666666667),\n",
       " (500, 10, 0.6946666666666667),\n",
       " (1000, 1, 0.7326666666666667),\n",
       " (1000, 2, 0.7353333333333333),\n",
       " (1000, 3, 0.7373333333333333),\n",
       " (1000, 4, 0.7366666666666667),\n",
       " (1000, 5, 0.7373333333333333),\n",
       " (1000, 6, 0.738),\n",
       " (1000, 7, 0.7393333333333333),\n",
       " (1000, 8, 0.7393333333333333),\n",
       " (1000, 9, 0.7406666666666667),\n",
       " (1000, 10, 0.7393333333333333),\n",
       " (1500, 1, 0.7506666666666667),\n",
       " (1500, 2, 0.7533333333333333),\n",
       " (1500, 3, 0.752),\n",
       " (1500, 4, 0.7526666666666667),\n",
       " (1500, 5, 0.7526666666666667),\n",
       " (1500, 6, 0.752),\n",
       " (1500, 7, 0.7533333333333333),\n",
       " (1500, 8, 0.7513333333333333),\n",
       " (1500, 9, 0.7513333333333333),\n",
       " (1500, 10, 0.7513333333333333),\n",
       " (2000, 1, 0.7606666666666667),\n",
       " (2000, 2, 0.762),\n",
       " (2000, 3, 0.764),\n",
       " (2000, 4, 0.7646666666666667),\n",
       " (2000, 5, 0.7646666666666667),\n",
       " (2000, 6, 0.764),\n",
       " (2000, 7, 0.7606666666666667),\n",
       " (2000, 8, 0.7613333333333333),\n",
       " (2000, 9, 0.7606666666666667),\n",
       " (2000, 10, 0.7606666666666667),\n",
       " (2500, 1, 0.77),\n",
       " (2500, 2, 0.77),\n",
       " (2500, 3, 0.772),\n",
       " (2500, 4, 0.7746666666666666),\n",
       " (2500, 5, 0.774),\n",
       " (2500, 6, 0.7713333333333333),\n",
       " (2500, 7, 0.772),\n",
       " (2500, 8, 0.7733333333333333),\n",
       " (2500, 9, 0.7726666666666666),\n",
       " (2500, 10, 0.774),\n",
       " (3000, 1, 0.774),\n",
       " (3000, 2, 0.7786666666666666),\n",
       " (3000, 3, 0.7793333333333333),\n",
       " (3000, 4, 0.78),\n",
       " (3000, 5, 0.778),\n",
       " (3000, 6, 0.7766666666666666),\n",
       " (3000, 7, 0.7773333333333333),\n",
       " (3000, 8, 0.778),\n",
       " (3000, 9, 0.7766666666666666),\n",
       " (3000, 10, 0.7766666666666666),\n",
       " (3500, 1, 0.782),\n",
       " (3500, 2, 0.786),\n",
       " (3500, 3, 0.7853333333333333),\n",
       " (3500, 4, 0.788),\n",
       " (3500, 5, 0.7853333333333333),\n",
       " (3500, 6, 0.786),\n",
       " (3500, 7, 0.7846666666666666),\n",
       " (3500, 8, 0.782),\n",
       " (3500, 9, 0.78),\n",
       " (3500, 10, 0.78),\n",
       " (4000, 1, 0.7793333333333333),\n",
       " (4000, 2, 0.7846666666666666),\n",
       " (4000, 3, 0.7846666666666666),\n",
       " (4000, 4, 0.7846666666666666),\n",
       " (4000, 5, 0.7846666666666666),\n",
       " (4000, 6, 0.7833333333333333),\n",
       " (4000, 7, 0.782),\n",
       " (4000, 8, 0.7813333333333333),\n",
       " (4000, 9, 0.7806666666666666),\n",
       " (4000, 10, 0.7793333333333333),\n",
       " (4500, 1, 0.7853333333333333),\n",
       " (4500, 2, 0.786),\n",
       " (4500, 3, 0.7886666666666666),\n",
       " (4500, 4, 0.786),\n",
       " (4500, 5, 0.786),\n",
       " (4500, 6, 0.7853333333333333),\n",
       " (4500, 7, 0.784),\n",
       " (4500, 8, 0.7813333333333333),\n",
       " (4500, 9, 0.7826666666666666),\n",
       " (4500, 10, 0.7806666666666666),\n",
       " (5000, 1, 0.7886666666666666),\n",
       " (5000, 2, 0.79),\n",
       " (5000, 3, 0.79),\n",
       " (5000, 4, 0.788),\n",
       " (5000, 5, 0.786),\n",
       " (5000, 6, 0.7866666666666666),\n",
       " (5000, 7, 0.7853333333333333),\n",
       " (5000, 8, 0.7846666666666666),\n",
       " (5000, 9, 0.7833333333333333),\n",
       " (5000, 10, 0.7826666666666666)]"
      ]
     },
     "execution_count": 20,
     "metadata": {},
     "output_type": "execute_result"
    }
   ],
   "source": [
    "scores"
   ]
  },
  {
   "cell_type": "code",
   "execution_count": 21,
   "metadata": {},
   "outputs": [
    {
     "data": {
      "text/plain": [
       "(5000, 2, 0.79)"
      ]
     },
     "execution_count": 21,
     "metadata": {},
     "output_type": "execute_result"
    }
   ],
   "source": [
    "max(scores, key=lambda item: item[2])"
   ]
  }
 ],
 "metadata": {
  "kernelspec": {
   "display_name": "my-virtualenv-name",
   "language": "python",
   "name": "my-virtualenv-name"
  },
  "language_info": {
   "codemirror_mode": {
    "name": "ipython",
    "version": 3
   },
   "file_extension": ".py",
   "mimetype": "text/x-python",
   "name": "python",
   "nbconvert_exporter": "python",
   "pygments_lexer": "ipython3",
   "version": "3.5.2"
  }
 },
 "nbformat": 4,
 "nbformat_minor": 4
}
