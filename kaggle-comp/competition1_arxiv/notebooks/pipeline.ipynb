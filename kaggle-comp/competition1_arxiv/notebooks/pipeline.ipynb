{
 "cells": [
  {
   "cell_type": "code",
   "execution_count": 1,
   "metadata": {},
   "outputs": [],
   "source": [
    "# TODO\n",
    "# -clean up code and make python classes/methods to be importe and called simply here"
   ]
  },
  {
   "cell_type": "code",
   "execution_count": 1,
   "metadata": {},
   "outputs": [],
   "source": [
    "import os\n",
    "os.chdir('../')"
   ]
  },
  {
   "cell_type": "code",
   "execution_count": 2,
   "metadata": {},
   "outputs": [
    {
     "name": "stderr",
     "output_type": "stream",
     "text": [
      "[nltk_data] Downloading package stopwords to /home/gui/nltk_data...\n",
      "[nltk_data]   Package stopwords is already up-to-date!\n",
      "[nltk_data] Downloading package wordnet to /home/gui/nltk_data...\n",
      "[nltk_data]   Package wordnet is already up-to-date!\n",
      "[nltk_data] Downloading package averaged_perceptron_tagger to\n",
      "[nltk_data]     /home/gui/nltk_data...\n",
      "[nltk_data]   Package averaged_perceptron_tagger is already up-to-\n",
      "[nltk_data]       date!\n"
     ]
    }
   ],
   "source": [
    "from src.preprocess import pre_process"
   ]
  },
  {
   "cell_type": "code",
   "execution_count": 3,
   "metadata": {},
   "outputs": [],
   "source": [
    "from src.bernoullinb import BernoulliNB\n",
    "from sklearn.naive_bayes import MultinomialNB\n",
    "from sklearn.svm import SVC\n",
    "from sklearn.svm import LinearSVC"
   ]
  },
  {
   "cell_type": "code",
   "execution_count": 4,
   "metadata": {
    "scrolled": true
   },
   "outputs": [],
   "source": [
    "import pandas as pd"
   ]
  },
  {
   "cell_type": "code",
   "execution_count": 6,
   "metadata": {},
   "outputs": [],
   "source": [
    "def model_selection(model='BNB', max_features=1000):\n",
    "    if model == 'BNB':\n",
    "        X, y, vectorizer = pre_process('dataset/train.csv',\n",
    "                                data = 'train',\n",
    "                                vectorizer = 'binary',\n",
    "                                max_features = max_features)\n",
    "        model = BernoulliNB(alpha=1).fit(X, y)\n",
    "        X, _ = pre_process('dataset/test.csv',\n",
    "                    data = 'test',\n",
    "                    vectorizer = 'binary',\n",
    "                    existing_vectorizer = vectorizer)\n",
    "        y_pred = model.predict(X).astype(int)\n",
    "    elif model == 'MNB':\n",
    "        vect = 'tfidf'\n",
    "        \n",
    "        X, y, vectorizer = pre_process('dataset/train.csv',\n",
    "                                data = 'train',\n",
    "                                vectorizer = vect,\n",
    "                                max_features = max_features)\n",
    "        model = MultinomialNB(0.1).fit(X, y)\n",
    "        X, _ = pre_process('dataset/test.csv',\n",
    "                    data = 'test',\n",
    "                    vectorizer = vect,\n",
    "                    existing_vectorizer = vectorizer)\n",
    "        y_pred = model.predict(X).astype(int)\n",
    "        \n",
    "    elif model == 'SVM':\n",
    "        X, y, vectorizer = pre_process('dataset/train.csv',\n",
    "                                data = 'train',\n",
    "                                vectorizer = 'tfidf',\n",
    "                                max_features = max_features)\n",
    "        model = SVC(C=1.0, degree=3, gamma='auto').fit(X,y)\n",
    "        X, _ = pre_process('dataset/test.csv',\n",
    "                    data = 'test',\n",
    "                    vectorizer = 'tfidf',\n",
    "                    existing_vectorizer = vectorizer)\n",
    "        y_pred = model.predict(X).astype(int)\n",
    "        \n",
    "    elif model == 'LSVC':\n",
    "        X, y, vectorizer = pre_process('dataset/train.csv',\n",
    "                                data = 'train',\n",
    "                                vectorizer = 'tfidf',\n",
    "                                max_features = max_features)\n",
    "        model = LinearSVC().fit(X,y)\n",
    "        X, _ = pre_process('dataset/test.csv',\n",
    "                    data = 'test',\n",
    "                    vectorizer = 'tfidf',\n",
    "                    existing_vectorizer = vectorizer)\n",
    "        y_pred = model.predict(X).astype(int)\n",
    "        \n",
    "    else:\n",
    "        y_pred = []\n",
    "    \n",
    "    return y_pred"
   ]
  },
  {
   "cell_type": "code",
   "execution_count": 8,
   "metadata": {},
   "outputs": [
    {
     "name": "stdout",
     "output_type": "stream",
     "text": [
      "cleaning...\n",
      "vectorizing...\n",
      "done!\n",
      "cleaning...\n",
      "vectorizing...\n",
      "done!\n"
     ]
    }
   ],
   "source": [
    "file_name = ''\n",
    "y_pred = model_selection('MNB', 2000)"
   ]
  },
  {
   "cell_type": "code",
   "execution_count": 9,
   "metadata": {},
   "outputs": [
    {
     "data": {
      "text/plain": [
       "array([14,  3,  3, ...,  0,  7,  4])"
      ]
     },
     "execution_count": 9,
     "metadata": {},
     "output_type": "execute_result"
    }
   ],
   "source": [
    "y_pred"
   ]
  },
  {
   "cell_type": "code",
   "execution_count": null,
   "metadata": {},
   "outputs": [],
   "source": [
    "ARXIV = ['astro-ph', 'astro-ph.CO', 'astro-ph.GA', 'astro-ph.SR',\n",
    "       'cond-mat.mes-hall', 'cond-mat.mtrl-sci', 'cs.LG', 'gr-qc',\n",
    "       'hep-ph', 'hep-th', 'math.AP', 'math.CO', 'physics.optics',\n",
    "       'quant-ph', 'stat.ML']\n",
    "\n",
    "df = pd.DataFrame(data = y_pred)\n",
    "\n",
    "df.columns = ['Category']\n",
    "df['Id'] = np.arange(len(df))\n",
    "df = df.apply (lambda row: ARXIV[int(row['Category'])], axis=1)\n",
    "df.columns = ['Id', 'Category']\n",
    "df.to_csv(file_name + '.csv')"
   ]
  }
 ],
 "metadata": {
  "kernelspec": {
   "display_name": "my-virtualenv-name",
   "language": "python",
   "name": "my-virtualenv-name"
  },
  "language_info": {
   "codemirror_mode": {
    "name": "ipython",
    "version": 3
   },
   "file_extension": ".py",
   "mimetype": "text/x-python",
   "name": "python",
   "nbconvert_exporter": "python",
   "pygments_lexer": "ipython3",
   "version": "3.5.2"
  }
 },
 "nbformat": 4,
 "nbformat_minor": 4
}
